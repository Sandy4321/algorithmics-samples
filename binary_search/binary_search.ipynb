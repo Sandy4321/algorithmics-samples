{
 "metadata": {
  "name": "",
  "signature": "sha256:da6573f8d9689cb68d0efe8c4778f99af16483cfd8289b78dc4f6d834a7b5d91"
 },
 "nbformat": 3,
 "nbformat_minor": 0,
 "worksheets": [
  {
   "cells": [
    {
     "cell_type": "markdown",
     "metadata": {},
     "source": [
      "## Binary search"
     ]
    },
    {
     "cell_type": "markdown",
     "metadata": {},
     "source": []
    },
    {
     "cell_type": "code",
     "collapsed": false,
     "input": [
      "def binary_search(a, elem):\n",
      "    if (len(a)==1):\n",
      "        if (a[0]==elem):\n",
      "            return 0\n",
      "        else:\n",
      "            return -1\n",
      "    else:\n",
      "        midi = int(len(a)/2)\n",
      "        mid = a[midi]\n",
      "        if (elem == mid):\n",
      "            return midi\n",
      "        elif (elem<mid):\n",
      "            return binary_search(a[0:midi],elem)\n",
      "        else:\n",
      "            i = binary_search(a[midi:len(a)],elem)\n",
      "            if (i!=-1):\n",
      "                i = i + midi\n",
      "            return i \n",
      "\n",
      "def binary_search_multi(a, b):\n",
      "    res = []\n",
      "    for elemb in b:\n",
      "        res.append(binary_search(a, elemb))\n",
      "    return res"
     ],
     "language": "python",
     "metadata": {},
     "outputs": [],
     "prompt_number": 3
    },
    {
     "cell_type": "code",
     "collapsed": false,
     "input": [
      "import pandas as pd\n",
      "\n",
      "numbers_file = file(\"./rosalind_bins.txt\",\"r\")\n",
      "df = pd.read_csv(numbers_file, header=None, skiprows=2, nrows=2, delim_whitespace=True)\n",
      "df\n",
      "a = [int(elem) for elem in df[:1].values[0].tolist()[0:9326]]\n",
      "b = [int(elem) for elem in df[1:2].values[0].tolist()[0:8159]]\n",
      "k = binary_search_multi(a,b)\n",
      "      \n",
      "f = open(\"res.txt\", \"w\")\n",
      "for i in k:\n",
      "    f.write('%s ' %(i))"
     ],
     "language": "python",
     "metadata": {},
     "outputs": [],
     "prompt_number": 4
    },
    {
     "cell_type": "code",
     "collapsed": false,
     "input": [],
     "language": "python",
     "metadata": {},
     "outputs": [],
     "prompt_number": 4
    }
   ],
   "metadata": {}
  }
 ]
}