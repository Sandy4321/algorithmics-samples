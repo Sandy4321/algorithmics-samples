{
 "metadata": {
  "name": "",
  "signature": "sha256:3035b85c5420e241bd7f56265fed614501802a5ff1784e27533ac2716ec6292e"
 },
 "nbformat": 3,
 "nbformat_minor": 0,
 "worksheets": [
  {
   "cells": [
    {
     "cell_type": "markdown",
     "metadata": {},
     "source": [
      "## Binary search"
     ]
    },
    {
     "cell_type": "markdown",
     "metadata": {},
     "source": []
    },
    {
     "cell_type": "code",
     "collapsed": false,
     "input": [
      "def binary_search(a, elem):\n",
      "    if (len(a)==1):\n",
      "        if (a[0]==elem):\n",
      "            return 0\n",
      "        else:\n",
      "            return -1\n",
      "    else:\n",
      "        midi = int(len(a)/2)\n",
      "        mid = a[midi]\n",
      "        if (elem == mid):\n",
      "            return midi\n",
      "        elif (elem<mid):\n",
      "            return binary_search(a[0:midi],elem)\n",
      "        else:\n",
      "            i = binary_search(a[midi:len(a)],elem)\n",
      "            if (i!=-1):\n",
      "                i = i + midi\n",
      "            return i \n",
      "\n",
      "def binary_search_multi(a, b):\n",
      "    res = []\n",
      "    for elemb in b:\n",
      "        res.append(binary_search(a, elemb))\n",
      "    return res"
     ],
     "language": "python",
     "metadata": {},
     "outputs": [],
     "prompt_number": 7
    },
    {
     "cell_type": "code",
     "collapsed": false,
     "input": [],
     "language": "python",
     "metadata": {},
     "outputs": []
    }
   ],
   "metadata": {}
  }
 ]
}