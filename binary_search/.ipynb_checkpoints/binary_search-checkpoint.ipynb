{
 "metadata": {
  "name": "",
  "signature": "sha256:124500021457ea3306f5aff23ffb4b58321afe67b19292d11fb00a2185b5afe9"
 },
 "nbformat": 3,
 "nbformat_minor": 0,
 "worksheets": [
  {
   "cells": [
    {
     "cell_type": "markdown",
     "metadata": {},
     "source": [
      "## Binary search"
     ]
    },
    {
     "cell_type": "markdown",
     "metadata": {},
     "source": []
    },
    {
     "cell_type": "code",
     "collapsed": false,
     "input": [
      "def binary_search(a, elem):\n",
      "    if (len(a)==1):\n",
      "        if (a[0]==elem):\n",
      "            return 0\n",
      "        else:\n",
      "            return -1\n",
      "    else:\n",
      "        midi = int(len(a)/2)\n",
      "        mid = a[midi]\n",
      "        if (elem == mid):\n",
      "            return midi\n",
      "        elif (elem<mid):\n",
      "            return binary_search(a[0:midi],elem)\n",
      "        else:\n",
      "            i = binary_search(a[midi:len(a)],elem)\n",
      "            if (i!=-1):\n",
      "                i = i + midi\n",
      "            return i \n",
      "\n",
      "def binary_search_multi(a, b):\n",
      "    res = []\n",
      "    for elemb in b:\n",
      "        res.append(binary_search(a, elemb))\n",
      "    return res\n",
      "        \n",
      "\n",
      "binary_search_multi([1,2,3,4,5], [1,2,5,70])\n",
      "\n",
      "        "
     ],
     "language": "python",
     "metadata": {},
     "outputs": [
      {
       "metadata": {},
       "output_type": "pyout",
       "prompt_number": 5,
       "text": [
        "[0, 1, 4, 3]"
       ]
      }
     ],
     "prompt_number": 5
    },
    {
     "cell_type": "code",
     "collapsed": false,
     "input": [],
     "language": "python",
     "metadata": {},
     "outputs": []
    }
   ],
   "metadata": {}
  }
 ]
}