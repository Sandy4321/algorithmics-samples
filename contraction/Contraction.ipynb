{
 "metadata": {
  "name": "",
  "signature": "sha256:8e6ed96f54bb956983af571fce8b40c53d239e92ff1b5abf16e1aaa84b89c2e3"
 },
 "nbformat": 3,
 "nbformat_minor": 0,
 "worksheets": [
  {
   "cells": [
    {
     "cell_type": "markdown",
     "metadata": {},
     "source": [
      "Let's define a function that gets the adjacency list from the file into a dictionary for later access."
     ]
    },
    {
     "cell_type": "code",
     "collapsed": false,
     "input": [
      "import csv\n",
      "\n",
      "def read_adjacency_file(file_name):\n",
      "    res = {}\n",
      "    with open(file_name) as adjacency_file:\n",
      "        for line in csv.reader(adjacency_file,delimiter=\"\\t\"):\n",
      "            res[line[0]] = line[1:(len(line)-1)]\n",
      "    return res"
     ],
     "language": "python",
     "metadata": {},
     "outputs": [],
     "prompt_number": 1
    },
    {
     "cell_type": "markdown",
     "metadata": {},
     "source": [
      "Since we are going to merge vertices, let's define a function that, given our map and two vertices indices 'i' and 'j', does the merging into 'i' and remove 'j'."
     ]
    },
    {
     "cell_type": "code",
     "collapsed": false,
     "input": [
      "def merge_vertices(adjacency_map, i, j):\n",
      "    adjacency_map[i].extend(adjacency_map[j])\n",
      "    # point j references to i\n",
      "    for edge_to_j in adjacency_map[j]:\n",
      "        adjacency_map[edge_to_j].remove(j)\n",
      "        adjacency_map[edge_to_j].append(i)\n",
      "    # remove j and self loops\n",
      "    del adjacency_map[j]\n",
      "    # remove self loops\n",
      "    while (adjacency_map[i].count(i)>0):\n",
      "        adjacency_map[i].remove(i)\n",
      "    while (adjacency_map[i].count(j)>0):\n",
      "        adjacency_map[i].remove(j)"
     ],
     "language": "python",
     "metadata": {},
     "outputs": [],
     "prompt_number": 2
    },
    {
     "cell_type": "markdown",
     "metadata": {},
     "source": [
      "The contraction algorithm basically keeps randomly selecting vertices and merging them until there are just 2 remaining."
     ]
    },
    {
     "cell_type": "code",
     "collapsed": false,
     "input": [
      "import random\n",
      "\n",
      "def contraction(adjacency_map):\n",
      "    if (len(adjacency_map) <= 2):\n",
      "        return len(adjacency_map[adjacency_map.keys()[0]])\n",
      "    else:\n",
      "        # get a vertex\n",
      "        ix = random.randint(0, len(adjacency_map)-1)\n",
      "        i = adjacency_map.keys()[ix]\n",
      "        # get an edge\n",
      "        jx = random.randint(0, len(adjacency_map[i])-1)\n",
      "        j = adjacency_map[i][jx]\n",
      "        # merge\n",
      "        merge_vertices(adjacency_map, i, j)\n",
      "        # call contraction recursively \n",
      "        return contraction(adjacency_map)"
     ],
     "language": "python",
     "metadata": {},
     "outputs": [],
     "prompt_number": 3
    },
    {
     "cell_type": "markdown",
     "metadata": {},
     "source": [
      "Let's call contraction with our file read map."
     ]
    },
    {
     "cell_type": "code",
     "collapsed": false,
     "input": [
      "\n",
      "\n",
      "min_cuts = set()\n",
      "for i in range(1000):\n",
      "    adjacency_map = read_adjacency_file(\"./kargerMinCut.txt\")\n",
      "    min_cuts.add(contraction(adjacency_map))\n",
      "print(min(min_cuts))"
     ],
     "language": "python",
     "metadata": {},
     "outputs": [
      {
       "output_type": "stream",
       "stream": "stdout",
       "text": [
        "17\n"
       ]
      }
     ],
     "prompt_number": 4
    }
   ],
   "metadata": {}
  }
 ]
}