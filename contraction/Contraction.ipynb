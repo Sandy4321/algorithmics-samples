{
 "metadata": {
  "name": "",
  "signature": "sha256:15d54c0cd6520ba00c2ce8a7976b0e6bb1db0667f70d222571cc9ad3d4654d60"
 },
 "nbformat": 3,
 "nbformat_minor": 0,
 "worksheets": [
  {
   "cells": [
    {
     "cell_type": "markdown",
     "metadata": {},
     "source": [
      "Let's define a function that gets the adjacency list from the file into a dictionary for later access."
     ]
    },
    {
     "cell_type": "code",
     "collapsed": false,
     "input": [
      "import csv\n",
      "\n",
      "def read_adjacency_file(file_name):\n",
      "    res = {}\n",
      "    with open(file_name) as adjacency_file:\n",
      "        for line in csv.reader(adjacency_file,delimiter=\"\\t\"):\n",
      "            res[line[0]] = line[1:(len(line)-1)]\n",
      "    return res"
     ],
     "language": "python",
     "metadata": {},
     "outputs": [],
     "prompt_number": 145
    },
    {
     "cell_type": "markdown",
     "metadata": {},
     "source": [
      "Since we are going to merge vertices, let's define a function that, given our map and two vertices indices 'i' and 'j', does the merging into 'i' and remove 'j'."
     ]
    },
    {
     "cell_type": "code",
     "collapsed": false,
     "input": [
      "def merge_vertices(adjacency_map, i, j):\n",
      "    #print(\"merging \" + i + \" and \" + j)\n",
      "    #print(adjacency_map[i])\n",
      "    #print(adjacency_map[j])\n",
      "    adjacency_map[i].extend(adjacency_map[j])\n",
      "    #print(adjacency_map[i])\n",
      "    # point j references to i\n",
      "    for edge_to_j in adjacency_map[j]:\n",
      "        #print(\"Removing edge to \" + j + \" from edge \" + edge_to_j)\n",
      "        #print(adjacency_map[edge_to_j])\n",
      "        adjacency_map[edge_to_j].remove(j)\n",
      "        adjacency_map[edge_to_j].append(i)\n",
      "    # remove j and self loops\n",
      "    del adjacency_map[j]\n",
      "    # remove self loops\n",
      "    while (adjacency_map[i].count(i)>0):\n",
      "        adjacency_map[i].remove(i)\n",
      "    while (adjacency_map[i].count(j)>0):\n",
      "        adjacency_map[i].remove(j)\n",
      "    #print(adjacency_map[i])"
     ],
     "language": "python",
     "metadata": {},
     "outputs": [],
     "prompt_number": 146
    },
    {
     "cell_type": "markdown",
     "metadata": {},
     "source": [
      "The contraction algorithm basically keeps randomly selecting vertices and merging them until there are just 2 remaining."
     ]
    },
    {
     "cell_type": "code",
     "collapsed": false,
     "input": [
      "import random\n",
      "\n",
      "def contraction(adjacency_map):\n",
      "    if (len(adjacency_map) <= 2):\n",
      "        return len(adjacency_map[adjacency_map.keys()[0]])\n",
      "    else:\n",
      "        # get a vertex\n",
      "        ix = random.randint(0, len(adjacency_map)-1)\n",
      "        i = adjacency_map.keys()[ix]\n",
      "        # get an edge\n",
      "        jx = random.randint(0, len(adjacency_map[i])-1)\n",
      "        j = adjacency_map[i][jx]\n",
      "        # merge\n",
      "        merge_vertices(adjacency_map, i, j)\n",
      "        #print(len(adjacency_map))\n",
      "        # call contraction recursively \n",
      "        return contraction(adjacency_map)"
     ],
     "language": "python",
     "metadata": {},
     "outputs": [],
     "prompt_number": 147
    },
    {
     "cell_type": "markdown",
     "metadata": {},
     "source": [
      "Let's call contraction with our file read map."
     ]
    },
    {
     "cell_type": "code",
     "collapsed": false,
     "input": [
      "\n",
      "\n",
      "min_cuts = set()\n",
      "for i in range(1000):\n",
      "    adjacency_map = read_adjacency_file(\"./kargerMinCut.txt\")\n",
      "    min_cuts.add(contraction(adjacency_map))\n",
      "print(min(min_cuts))"
     ],
     "language": "python",
     "metadata": {},
     "outputs": [
      {
       "ename": "AttributeError",
       "evalue": "'dict' object has no attribute 'deepcopy'",
       "output_type": "pyerr",
       "traceback": [
        "\u001b[0;31m---------------------------------------------------------------------------\u001b[0m\n\u001b[0;31mAttributeError\u001b[0m                            Traceback (most recent call last)",
        "\u001b[0;32m<ipython-input-148-a6939b483f11>\u001b[0m in \u001b[0;36m<module>\u001b[0;34m()\u001b[0m\n\u001b[1;32m      3\u001b[0m \u001b[0mmin_cuts\u001b[0m \u001b[0;34m=\u001b[0m \u001b[0mset\u001b[0m\u001b[0;34m(\u001b[0m\u001b[0;34m)\u001b[0m\u001b[0;34m\u001b[0m\u001b[0m\n\u001b[1;32m      4\u001b[0m \u001b[0;32mfor\u001b[0m \u001b[0mi\u001b[0m \u001b[0;32min\u001b[0m \u001b[0mrange\u001b[0m\u001b[0;34m(\u001b[0m\u001b[0;36m1000\u001b[0m\u001b[0;34m)\u001b[0m\u001b[0;34m:\u001b[0m\u001b[0;34m\u001b[0m\u001b[0m\n\u001b[0;32m----> 5\u001b[0;31m     \u001b[0mmin_cuts\u001b[0m\u001b[0;34m.\u001b[0m\u001b[0madd\u001b[0m\u001b[0;34m(\u001b[0m\u001b[0mcontraction\u001b[0m\u001b[0;34m(\u001b[0m\u001b[0madjacency_map\u001b[0m\u001b[0;34m.\u001b[0m\u001b[0mdeepcopy\u001b[0m\u001b[0;34m(\u001b[0m\u001b[0;34m)\u001b[0m\u001b[0;34m)\u001b[0m\u001b[0;34m)\u001b[0m\u001b[0;34m\u001b[0m\u001b[0m\n\u001b[0m\u001b[1;32m      6\u001b[0m \u001b[0;32mprint\u001b[0m\u001b[0;34m(\u001b[0m\u001b[0mmin\u001b[0m\u001b[0;34m(\u001b[0m\u001b[0mmin_cuts\u001b[0m\u001b[0;34m)\u001b[0m\u001b[0;34m)\u001b[0m\u001b[0;34m\u001b[0m\u001b[0m\n",
        "\u001b[0;31mAttributeError\u001b[0m: 'dict' object has no attribute 'deepcopy'"
       ]
      }
     ],
     "prompt_number": 148
    }
   ],
   "metadata": {}
  }
 ]
}