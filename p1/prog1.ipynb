{
 "metadata": {
  "name": "",
  "signature": "sha256:3dfa4797f4d745d2fc16809986f04d6b1cba9f605d37909ad6ab12c356f52f91"
 },
 "nbformat": 3,
 "nbformat_minor": 0,
 "worksheets": [
  {
   "cells": [
    {
     "cell_type": "markdown",
     "metadata": {},
     "source": [
      "## Algorithms: Design and Analysis\n",
      "### Programing task I\n"
     ]
    },
    {
     "cell_type": "markdown",
     "metadata": {},
     "source": [
      "Let us first define the main `sort_and_count` function."
     ]
    },
    {
     "cell_type": "code",
     "collapsed": false,
     "input": [
      "def sort_and_count(a):\n",
      "    n = len(a)\n",
      "    if n==1:\n",
      "        return (a, 0)\n",
      "    else:\n",
      "        (b, x) = sort_and_count(a[0:n/2])\n",
      "        (c, y) = sort_and_count(a[n/2:n])\n",
      "        (d, z) = count_split_inv(b,c)\n",
      "        return (d, x+y+z)\n"
     ],
     "language": "python",
     "metadata": {},
     "outputs": [],
     "prompt_number": 148
    },
    {
     "cell_type": "markdown",
     "metadata": {},
     "source": [
      "The inner `count_split_inv` function follows."
     ]
    },
    {
     "cell_type": "code",
     "collapsed": false,
     "input": [
      "def count_split_inv(b, c):\n",
      "    n = len(b) + len(c)\n",
      "    i = 0\n",
      "    j = 0\n",
      "    inversions = 0\n",
      "    d = range(n)\n",
      "    for k in range(n):\n",
      "        if (i<len(b)) & (j<len(c)):\n",
      "            if (b[i] < c[j]):\n",
      "                d[k] = b[i]\n",
      "                i = i+1\n",
      "            else:\n",
      "                d[k] = c[j]\n",
      "                j = j+1\n",
      "                inversions = inversions + (len(b)-i)\n",
      "        elif i<len(b):\n",
      "            d[k] = b[i]\n",
      "            i = i+1\n",
      "        else:\n",
      "            d[k] = c[j]\n",
      "            j = j+1\n",
      "    return (d,inversions)\n"
     ],
     "language": "python",
     "metadata": {},
     "outputs": [],
     "prompt_number": 149
    },
    {
     "cell_type": "markdown",
     "metadata": {},
     "source": [
      "Some quick tests:"
     ]
    },
    {
     "cell_type": "code",
     "collapsed": false,
     "input": [
      "sort_and_count(range(10))"
     ],
     "language": "python",
     "metadata": {},
     "outputs": [
      {
       "metadata": {},
       "output_type": "pyout",
       "prompt_number": 150,
       "text": [
        "([0, 1, 2, 3, 4, 5, 6, 7, 8, 9], 0)"
       ]
      }
     ],
     "prompt_number": 150
    },
    {
     "cell_type": "code",
     "collapsed": false,
     "input": [
      "sort_and_count([2,1,3])"
     ],
     "language": "python",
     "metadata": {},
     "outputs": [
      {
       "metadata": {},
       "output_type": "pyout",
       "prompt_number": 151,
       "text": [
        "([1, 2, 3], 1)"
       ]
      }
     ],
     "prompt_number": 151
    },
    {
     "cell_type": "code",
     "collapsed": false,
     "input": [
      "sort_and_count([3,1,2])"
     ],
     "language": "python",
     "metadata": {},
     "outputs": [
      {
       "metadata": {},
       "output_type": "pyout",
       "prompt_number": 152,
       "text": [
        "([1, 2, 3], 2)"
       ]
      }
     ],
     "prompt_number": 152
    },
    {
     "cell_type": "code",
     "collapsed": false,
     "input": [
      "sort_and_count([6,5,2,3])"
     ],
     "language": "python",
     "metadata": {},
     "outputs": [
      {
       "metadata": {},
       "output_type": "pyout",
       "prompt_number": 153,
       "text": [
        "([2, 3, 5, 6], 5)"
       ]
      }
     ],
     "prompt_number": 153
    },
    {
     "cell_type": "code",
     "collapsed": false,
     "input": [
      "sort_and_count([6,5,2,3,1])"
     ],
     "language": "python",
     "metadata": {},
     "outputs": [
      {
       "metadata": {},
       "output_type": "pyout",
       "prompt_number": 154,
       "text": [
        "([1, 2, 3, 5, 6], 9)"
       ]
      }
     ],
     "prompt_number": 154
    },
    {
     "cell_type": "markdown",
     "metadata": {},
     "source": [
      "Next, we read the input file and create a list of numbers:"
     ]
    },
    {
     "cell_type": "code",
     "collapsed": false,
     "input": [
      "numbers_file = file(\"./IntegerArray.txt\",\"r\")\n",
      "a = [int(line) for line in numbers_file.readlines()]"
     ],
     "language": "python",
     "metadata": {},
     "outputs": [],
     "prompt_number": 155
    },
    {
     "cell_type": "markdown",
     "metadata": {},
     "source": [
      "Call `sort_and_count` and store results:"
     ]
    },
    {
     "cell_type": "code",
     "collapsed": false,
     "input": [
      "(d,z) = sort_and_count(a)"
     ],
     "language": "python",
     "metadata": {},
     "outputs": [],
     "prompt_number": 156
    },
    {
     "cell_type": "code",
     "collapsed": false,
     "input": [
      "print(z)"
     ],
     "language": "python",
     "metadata": {},
     "outputs": [
      {
       "output_type": "stream",
       "stream": "stdout",
       "text": [
        "2407905288\n"
       ]
      }
     ],
     "prompt_number": 157
    },
    {
     "cell_type": "code",
     "collapsed": false,
     "input": [],
     "language": "python",
     "metadata": {},
     "outputs": []
    }
   ],
   "metadata": {}
  }
 ]
}