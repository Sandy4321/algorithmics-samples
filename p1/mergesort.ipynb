{
 "metadata": {
  "celltoolbar": "Slideshow",
  "name": "",
  "signature": "sha256:c53115905a3033b79f2fda6a1c2720d410730de765ebc93610d641f42f3a6a60"
 },
 "nbformat": 3,
 "nbformat_minor": 0,
 "worksheets": [
  {
   "cells": [
    {
     "cell_type": "markdown",
     "metadata": {
      "slideshow": {
       "slide_type": "slide"
      }
     },
     "source": [
      "## Algorithms: Design and Analysis\n",
      "### Programing task I - Inversions\n"
     ]
    },
    {
     "cell_type": "markdown",
     "metadata": {
      "slideshow": {
       "slide_type": "slide"
      }
     },
     "source": [
      "Given an array `A` containing the numbers `1,2,...,n` in some arbitrary order, determine the *number of inversions* or number of pairs `(i,j)` of array indices with `i<j` and `A[i]>A[j]`."
     ]
    },
    {
     "cell_type": "markdown",
     "metadata": {},
     "source": [
      "Let us first define the main `sort_and_count` function that will take an input array `a` and will return the array sorted and the number of inversions."
     ]
    },
    {
     "cell_type": "code",
     "collapsed": false,
     "input": [
      "def sort_and_count(a):\n",
      "    n = len(a)\n",
      "    if n==1:\n",
      "        return (a, 0)\n",
      "    else:\n",
      "        (b, x) = sort_and_count(a[0:n/2])\n",
      "        (c, y) = sort_and_count(a[n/2:n])\n",
      "        (d, z) = count_split_inv(b,c)\n",
      "        return (d, x+y+z)\n"
     ],
     "language": "python",
     "metadata": {},
     "outputs": [],
     "prompt_number": 1
    },
    {
     "cell_type": "markdown",
     "metadata": {},
     "source": [
      "We can see how we are using a *divide & conquer* approach where:  \n",
      "1. We determine the number of inversions for the first half with a recursive call to `sort_and_count`, getting the sorted half of the array as well.\n",
      "2. We do the same with the second half.\n",
      "3. In order to determine inversions affecting both halves, we define the function `count_split_inv` as follows."
     ]
    },
    {
     "cell_type": "code",
     "collapsed": false,
     "input": [
      "def count_split_inv(b, c):\n",
      "    n = len(b) + len(c)\n",
      "    i = 0\n",
      "    j = 0\n",
      "    inversions = 0\n",
      "    d = range(n)\n",
      "    for k in range(n):\n",
      "        if (i<len(b)) & (j<len(c)):\n",
      "            if (b[i] < c[j]):\n",
      "                d[k] = b[i]\n",
      "                i = i+1\n",
      "            else:\n",
      "                d[k] = c[j]\n",
      "                j = j+1\n",
      "                inversions = inversions + (len(b)-i)\n",
      "        elif i<len(b):\n",
      "            d[k] = b[i]\n",
      "            i = i+1\n",
      "        else:\n",
      "            d[k] = c[j]\n",
      "            j = j+1\n",
      "    return (d,inversions)\n"
     ],
     "language": "python",
     "metadata": {},
     "outputs": [],
     "prompt_number": 2
    },
    {
     "cell_type": "markdown",
     "metadata": {},
     "source": [
      "The function takes both sorted halves (`b` and `c`) and compares them element by element in order to insert them sorted in the final result (`d`). For each element in the second half `c` that goes into the final result `d`, we count as many inversions as elements remaining in the first half (`len(b)-i`). This is so because the whole first half `b` is supposed to be smaller than the second half `c`. Each time an element in `c` gets into `d` means that there are as many elements remaining in `b` with `i<j` and `A[i]>A[j]` as explained in the problem definition."
     ]
    },
    {
     "cell_type": "markdown",
     "metadata": {},
     "source": [
      "Let's try some quick examples:"
     ]
    },
    {
     "cell_type": "code",
     "collapsed": false,
     "input": [
      "sort_and_count(range(10))"
     ],
     "language": "python",
     "metadata": {},
     "outputs": [
      {
       "metadata": {},
       "output_type": "pyout",
       "prompt_number": 3,
       "text": [
        "([0, 1, 2, 3, 4, 5, 6, 7, 8, 9], 0)"
       ]
      }
     ],
     "prompt_number": 3
    },
    {
     "cell_type": "code",
     "collapsed": false,
     "input": [
      "sort_and_count([2,1,3])"
     ],
     "language": "python",
     "metadata": {},
     "outputs": [
      {
       "metadata": {},
       "output_type": "pyout",
       "prompt_number": 4,
       "text": [
        "([1, 2, 3], 1)"
       ]
      }
     ],
     "prompt_number": 4
    },
    {
     "cell_type": "code",
     "collapsed": false,
     "input": [
      "sort_and_count([3,1,2])"
     ],
     "language": "python",
     "metadata": {},
     "outputs": [
      {
       "metadata": {},
       "output_type": "pyout",
       "prompt_number": 5,
       "text": [
        "([1, 2, 3], 2)"
       ]
      }
     ],
     "prompt_number": 5
    },
    {
     "cell_type": "code",
     "collapsed": false,
     "input": [
      "sort_and_count([6,5,2,3])"
     ],
     "language": "python",
     "metadata": {},
     "outputs": [
      {
       "metadata": {},
       "output_type": "pyout",
       "prompt_number": 6,
       "text": [
        "([2, 3, 5, 6], 5)"
       ]
      }
     ],
     "prompt_number": 6
    },
    {
     "cell_type": "code",
     "collapsed": false,
     "input": [
      "sort_and_count([6,5,2,3,1])"
     ],
     "language": "python",
     "metadata": {},
     "outputs": [
      {
       "metadata": {},
       "output_type": "pyout",
       "prompt_number": 7,
       "text": [
        "([1, 2, 3, 5, 6], 9)"
       ]
      }
     ],
     "prompt_number": 7
    },
    {
     "cell_type": "markdown",
     "metadata": {},
     "source": [
      "Next, we read the input file and create a list of numbers:"
     ]
    },
    {
     "cell_type": "code",
     "collapsed": false,
     "input": [
      "numbers_file = file(\"./IntegerArray.txt\",\"r\")\n",
      "a = [int(line) for line in numbers_file.readlines()]"
     ],
     "language": "python",
     "metadata": {},
     "outputs": [],
     "prompt_number": 8
    },
    {
     "cell_type": "markdown",
     "metadata": {},
     "source": [
      "Call `sort_and_count` and store results:"
     ]
    },
    {
     "cell_type": "code",
     "collapsed": false,
     "input": [
      "(d,z) = sort_and_count(a)"
     ],
     "language": "python",
     "metadata": {},
     "outputs": [],
     "prompt_number": 9
    },
    {
     "cell_type": "code",
     "collapsed": false,
     "input": [
      "print(z)"
     ],
     "language": "python",
     "metadata": {},
     "outputs": [
      {
       "output_type": "stream",
       "stream": "stdout",
       "text": [
        "2407905288\n"
       ]
      }
     ],
     "prompt_number": 10
    },
    {
     "cell_type": "code",
     "collapsed": false,
     "input": [],
     "language": "python",
     "metadata": {},
     "outputs": [],
     "prompt_number": 10
    }
   ],
   "metadata": {}
  }
 ]
}