{
 "metadata": {
  "name": "",
  "signature": "sha256:676baa3e86dd8e9929114b93e712b1d38ffd99c2b12f8a000d83fa2d4552699b"
 },
 "nbformat": 3,
 "nbformat_minor": 0,
 "worksheets": [
  {
   "cells": [
    {
     "cell_type": "markdown",
     "metadata": {},
     "source": [
      "### The solution"
     ]
    },
    {
     "cell_type": "markdown",
     "metadata": {},
     "source": [
      "We will follow a *divide & conquer* strategy where firs we find all the pairs for `(a,b)`, then we do the same for `(c,d)`, and then we find the maximum pair of the intersection."
     ]
    },
    {
     "cell_type": "code",
     "collapsed": false,
     "input": [
      "def find_biggest_pair(a, b, c, d):\n",
      "    pairs_a_b = find_all_pairs(a, b)\n",
      "    pairs_c_d = find_all_pairs(c, d)\n",
      "    common_pairs = pairs_a_b.intersection(pairs_c_d)\n",
      "    if (common_pairs == set()):\n",
      "        return {'pairs':set(), 'max_pair':None, 'sum_max_pair':0}\n",
      "    else:\n",
      "        return {'pairs':common_pairs, 'max_pair':max(common_pairs), 'sum_max_pair':sum(max(common_pairs))}"
     ],
     "language": "python",
     "metadata": {},
     "outputs": [],
     "prompt_number": 101
    },
    {
     "cell_type": "markdown",
     "metadata": {},
     "source": [
      "The `find_all_pairs` function is a recursive one that adds the calling pair `(a,b)` to the result of finding all pairs for a subcase of substracting `a` from `b` or `b` from `a` depending on how do they compare to each other. The base cases are:  \n",
      "* No pairs when either `a` or `b` are negative.  \n",
      "* the pair itself `(a,b)` if either `a` or `b` is zero.  \n",
      "\n",
      "The later base case is explained by the fact that the only way of reaching a pair `(a,b)` of that kind is the pair itself, since we cannot reach zero adding positive numbers."
     ]
    },
    {
     "cell_type": "code",
     "collapsed": false,
     "input": [
      "def find_all_pairs(a, b):\n",
      "    if (a<0) | (b<0):\n",
      "        res = set()\n",
      "    elif (a==0) | (b==0):\n",
      "        res = set()\n",
      "        res.add((a,b))\n",
      "    elif (a>b):\n",
      "        res = find_all_pairs(a-b,b)\n",
      "        res.add((a,b))\n",
      "    else:\n",
      "        res = find_all_pairs(a,b-a)\n",
      "        res.add((a,b))\n",
      "    return res"
     ],
     "language": "python",
     "metadata": {},
     "outputs": [],
     "prompt_number": 102
    },
    {
     "cell_type": "markdown",
     "metadata": {},
     "source": [
      "Let's give `find_all_pairs` a few tries."
     ]
    },
    {
     "cell_type": "code",
     "collapsed": false,
     "input": [
      "find_all_pairs(5,2)"
     ],
     "language": "python",
     "metadata": {},
     "outputs": [
      {
       "metadata": {},
       "output_type": "pyout",
       "prompt_number": 103,
       "text": [
        "{(1, 0), (1, 1), (1, 2), (3, 2), (5, 2)}"
       ]
      }
     ],
     "prompt_number": 103
    },
    {
     "cell_type": "code",
     "collapsed": false,
     "input": [
      "find_all_pairs(0,0)"
     ],
     "language": "python",
     "metadata": {},
     "outputs": [
      {
       "metadata": {},
       "output_type": "pyout",
       "prompt_number": 104,
       "text": [
        "{(0, 0)}"
       ]
      }
     ],
     "prompt_number": 104
    },
    {
     "cell_type": "code",
     "collapsed": false,
     "input": [
      "find_all_pairs(0,1)"
     ],
     "language": "python",
     "metadata": {},
     "outputs": [
      {
       "metadata": {},
       "output_type": "pyout",
       "prompt_number": 105,
       "text": [
        "{(0, 1)}"
       ]
      }
     ],
     "prompt_number": 105
    },
    {
     "cell_type": "code",
     "collapsed": false,
     "input": [
      "find_all_pairs(1,1)"
     ],
     "language": "python",
     "metadata": {},
     "outputs": [
      {
       "metadata": {},
       "output_type": "pyout",
       "prompt_number": 106,
       "text": [
        "{(1, 0), (1, 1)}"
       ]
      }
     ],
     "prompt_number": 106
    },
    {
     "cell_type": "code",
     "collapsed": false,
     "input": [
      "find_all_pairs(2,2)"
     ],
     "language": "python",
     "metadata": {},
     "outputs": [
      {
       "metadata": {},
       "output_type": "pyout",
       "prompt_number": 107,
       "text": [
        "{(2, 0), (2, 2)}"
       ]
      }
     ],
     "prompt_number": 107
    },
    {
     "cell_type": "markdown",
     "metadata": {},
     "source": [
      "Now let's do the same with the main function `find_biggest_pair`"
     ]
    },
    {
     "cell_type": "code",
     "collapsed": false,
     "input": [
      "find_biggest_pair(7,11,13,21)"
     ],
     "language": "python",
     "metadata": {},
     "outputs": [
      {
       "metadata": {},
       "output_type": "pyout",
       "prompt_number": 108,
       "text": [
        "{'max_pair': (2, 1), 'pairs': {(1, 0), (1, 1), (2, 1)}, 'sum_max_pair': 3}"
       ]
      }
     ],
     "prompt_number": 108
    },
    {
     "cell_type": "code",
     "collapsed": false,
     "input": [],
     "language": "python",
     "metadata": {},
     "outputs": [],
     "prompt_number": 108
    }
   ],
   "metadata": {}
  }
 ]
}