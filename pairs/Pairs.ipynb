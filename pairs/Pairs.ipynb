{
 "metadata": {
  "name": "",
  "signature": "sha256:9671f3a316cb9bda8573fb179e12e5f76e4a447b22deb1e3fe870ddd649f9403"
 },
 "nbformat": 3,
 "nbformat_minor": 0,
 "worksheets": [
  {
   "cells": [
    {
     "cell_type": "markdown",
     "metadata": {},
     "source": [
      "### The solution"
     ]
    },
    {
     "cell_type": "markdown",
     "metadata": {},
     "source": [
      "We will follow a *divide & conquer* strategy where firs we find all the pairs for `(a,b)`, then we do the same for `(c,d)`, and then we find the maximum pair of the intersection."
     ]
    },
    {
     "cell_type": "code",
     "collapsed": false,
     "input": [
      "def find_biggest_pair(a, b, c, d):\n",
      "    pairs_a_b = find_all_pairs(a, b)\n",
      "    pairs_c_d = find_all_pairs(c, d)\n",
      "    common_pairs = pairs_a_b.intersection(pairs_c_d)\n",
      "    if (common_pairs == set()):\n",
      "        return {'pairs':set(), 'max_pair':None, 'sum_max_pair':0}\n",
      "    else:\n",
      "        return {'pairs':common_pairs, 'max_pair':max(common_pairs), 'sum_max_pair':sum(max(common_pairs))}"
     ],
     "language": "python",
     "metadata": {},
     "outputs": [],
     "prompt_number": 2
    },
    {
     "cell_type": "markdown",
     "metadata": {},
     "source": [
      "The `find_all_pairs` function is a *recursive* one that adds the calling pair `(a,b)` to the result of finding all pairs for a subcase of substracting `a` from `b` or `b` from `a` depending on how do they compare to each other. The base cases are:  \n",
      "* No pairs when either `a` or `b` are negative.  \n",
      "* the pair itself `(a,b)` if either `a` or `b` is zero.  \n",
      "\n",
      "The later base case is explained by the fact that the only way of reaching a pair `(a,b)` of that kind is the pair itself, since we cannot reach zero adding positive numbers."
     ]
    },
    {
     "cell_type": "code",
     "collapsed": false,
     "input": [
      "def find_all_pairs(a, b):\n",
      "    if (a<0) | (b<0):\n",
      "        res = set()\n",
      "    elif (a==0) | (b==0):\n",
      "        res = set()\n",
      "        res.add((a,b))\n",
      "    elif (a>b):\n",
      "        res = find_all_pairs(a-b,b)\n",
      "        res.add((a,b))\n",
      "    else:\n",
      "        res = find_all_pairs(a,b-a)\n",
      "        res.add((a,b))\n",
      "    return res"
     ],
     "language": "python",
     "metadata": {},
     "outputs": [],
     "prompt_number": 3
    },
    {
     "cell_type": "markdown",
     "metadata": {},
     "source": [
      "### Tests"
     ]
    },
    {
     "cell_type": "markdown",
     "metadata": {},
     "source": [
      "Let's give `find_all_pairs` a few tries."
     ]
    },
    {
     "cell_type": "code",
     "collapsed": false,
     "input": [
      "find_all_pairs(5,2)"
     ],
     "language": "python",
     "metadata": {},
     "outputs": [
      {
       "metadata": {},
       "output_type": "pyout",
       "prompt_number": 4,
       "text": [
        "{(1, 0), (1, 1), (1, 2), (3, 2), (5, 2)}"
       ]
      }
     ],
     "prompt_number": 4
    },
    {
     "cell_type": "code",
     "collapsed": false,
     "input": [
      "find_all_pairs(2,5)"
     ],
     "language": "python",
     "metadata": {},
     "outputs": [
      {
       "metadata": {},
       "output_type": "pyout",
       "prompt_number": 5,
       "text": [
        "{(1, 0), (1, 1), (2, 1), (2, 3), (2, 5)}"
       ]
      }
     ],
     "prompt_number": 5
    },
    {
     "cell_type": "code",
     "collapsed": false,
     "input": [
      "find_all_pairs(0,0)"
     ],
     "language": "python",
     "metadata": {},
     "outputs": [
      {
       "metadata": {},
       "output_type": "pyout",
       "prompt_number": 6,
       "text": [
        "{(0, 0)}"
       ]
      }
     ],
     "prompt_number": 6
    },
    {
     "cell_type": "code",
     "collapsed": false,
     "input": [
      "find_all_pairs(0,1)"
     ],
     "language": "python",
     "metadata": {},
     "outputs": [
      {
       "metadata": {},
       "output_type": "pyout",
       "prompt_number": 7,
       "text": [
        "{(0, 1)}"
       ]
      }
     ],
     "prompt_number": 7
    },
    {
     "cell_type": "code",
     "collapsed": false,
     "input": [
      "find_all_pairs(1,1)"
     ],
     "language": "python",
     "metadata": {},
     "outputs": [
      {
       "metadata": {},
       "output_type": "pyout",
       "prompt_number": 8,
       "text": [
        "{(1, 0), (1, 1)}"
       ]
      }
     ],
     "prompt_number": 8
    },
    {
     "cell_type": "code",
     "collapsed": false,
     "input": [
      "find_all_pairs(2,2)"
     ],
     "language": "python",
     "metadata": {},
     "outputs": [
      {
       "metadata": {},
       "output_type": "pyout",
       "prompt_number": 9,
       "text": [
        "{(2, 0), (2, 2)}"
       ]
      }
     ],
     "prompt_number": 9
    },
    {
     "cell_type": "markdown",
     "metadata": {},
     "source": [
      "Now let's do the same with the main function `find_biggest_pair`"
     ]
    },
    {
     "cell_type": "code",
     "collapsed": false,
     "input": [
      "find_biggest_pair(7,11,13,21)"
     ],
     "language": "python",
     "metadata": {},
     "outputs": [
      {
       "metadata": {},
       "output_type": "pyout",
       "prompt_number": 10,
       "text": [
        "{'max_pair': (2, 1), 'pairs': {(1, 0), (1, 1), (2, 1)}, 'sum_max_pair': 3}"
       ]
      }
     ],
     "prompt_number": 10
    },
    {
     "cell_type": "code",
     "collapsed": false,
     "input": [
      "find_biggest_pair(1,1,2,2)"
     ],
     "language": "python",
     "metadata": {},
     "outputs": [
      {
       "metadata": {},
       "output_type": "pyout",
       "prompt_number": 11,
       "text": [
        "{'max_pair': None, 'pairs': set(), 'sum_max_pair': 0}"
       ]
      }
     ],
     "prompt_number": 11
    },
    {
     "cell_type": "code",
     "collapsed": false,
     "input": [
      "find_biggest_pair(5,2,1,1)"
     ],
     "language": "python",
     "metadata": {},
     "outputs": [
      {
       "metadata": {},
       "output_type": "pyout",
       "prompt_number": 12,
       "text": [
        "{'max_pair': (1, 1), 'pairs': {(1, 0), (1, 1)}, 'sum_max_pair': 2}"
       ]
      }
     ],
     "prompt_number": 12
    },
    {
     "cell_type": "code",
     "collapsed": false,
     "input": [
      "find_biggest_pair(2,5,5,2)"
     ],
     "language": "python",
     "metadata": {},
     "outputs": [
      {
       "metadata": {},
       "output_type": "pyout",
       "prompt_number": 13,
       "text": [
        "{'max_pair': (1, 1), 'pairs': {(1, 0), (1, 1)}, 'sum_max_pair': 2}"
       ]
      }
     ],
     "prompt_number": 13
    },
    {
     "cell_type": "code",
     "collapsed": false,
     "input": [
      "find_biggest_pair(215,534,215,319)"
     ],
     "language": "python",
     "metadata": {},
     "outputs": [
      {
       "metadata": {},
       "output_type": "pyout",
       "prompt_number": 17,
       "text": [
        "{'max_pair': (215, 319),\n",
        " 'pairs': {(1, 0),\n",
        "  (1, 1),\n",
        "  (1, 2),\n",
        "  (1, 3),\n",
        "  (1, 4),\n",
        "  (1, 5),\n",
        "  (1, 6),\n",
        "  (7, 6),\n",
        "  (7, 13),\n",
        "  (7, 20),\n",
        "  (7, 27),\n",
        "  (7, 34),\n",
        "  (7, 41),\n",
        "  (7, 48),\n",
        "  (7, 55),\n",
        "  (7, 62),\n",
        "  (7, 69),\n",
        "  (7, 76),\n",
        "  (7, 83),\n",
        "  (7, 90),\n",
        "  (7, 97),\n",
        "  (7, 104),\n",
        "  (111, 104),\n",
        "  (215, 104),\n",
        "  (215, 319)},\n",
        " 'sum_max_pair': 534}"
       ]
      }
     ],
     "prompt_number": 17
    },
    {
     "cell_type": "code",
     "collapsed": false,
     "input": [],
     "language": "python",
     "metadata": {},
     "outputs": [],
     "prompt_number": 14
    }
   ],
   "metadata": {}
  }
 ]
}